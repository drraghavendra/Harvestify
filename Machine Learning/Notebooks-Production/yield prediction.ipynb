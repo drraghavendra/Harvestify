{
 "cells": [
  {
   "cell_type": "code",
   "execution_count": 1,
   "metadata": {},
   "outputs": [],
   "source": [
    "import pandas as pd\n",
    "import matplotlib.pyplot as plt\n",
    "import seaborn as sns\n",
    "from matplotlib import style\n",
    "style.use('fivethirtyeight')"
   ]
  },
  {
   "cell_type": "code",
   "execution_count": 2,
   "metadata": {},
   "outputs": [],
   "source": [
    "crop=pd.read_csv(\"crop_production.csv\")"
   ]
  },
  {
   "cell_type": "code",
   "execution_count": 3,
   "metadata": {},
   "outputs": [
    {
     "data": {
      "text/html": [
       "<div>\n",
       "<style scoped>\n",
       "    .dataframe tbody tr th:only-of-type {\n",
       "        vertical-align: middle;\n",
       "    }\n",
       "\n",
       "    .dataframe tbody tr th {\n",
       "        vertical-align: top;\n",
       "    }\n",
       "\n",
       "    .dataframe thead th {\n",
       "        text-align: right;\n",
       "    }\n",
       "</style>\n",
       "<table border=\"1\" class=\"dataframe\">\n",
       "  <thead>\n",
       "    <tr style=\"text-align: right;\">\n",
       "      <th></th>\n",
       "      <th>State_Name</th>\n",
       "      <th>District_Name</th>\n",
       "      <th>Crop_Year</th>\n",
       "      <th>Season</th>\n",
       "      <th>Crop</th>\n",
       "      <th>Area (in Hectares)</th>\n",
       "      <th>Production (in Tonnes)</th>\n",
       "    </tr>\n",
       "  </thead>\n",
       "  <tbody>\n",
       "    <tr>\n",
       "      <th>0</th>\n",
       "      <td>Andaman and Nicobar Islands</td>\n",
       "      <td>NICOBARS</td>\n",
       "      <td>2000</td>\n",
       "      <td>Kharif</td>\n",
       "      <td>Arecanut</td>\n",
       "      <td>1254.0</td>\n",
       "      <td>2000.0</td>\n",
       "    </tr>\n",
       "    <tr>\n",
       "      <th>1</th>\n",
       "      <td>Andaman and Nicobar Islands</td>\n",
       "      <td>NICOBARS</td>\n",
       "      <td>2000</td>\n",
       "      <td>Kharif</td>\n",
       "      <td>Other Kharif pulses</td>\n",
       "      <td>2.0</td>\n",
       "      <td>1.0</td>\n",
       "    </tr>\n",
       "    <tr>\n",
       "      <th>2</th>\n",
       "      <td>Andaman and Nicobar Islands</td>\n",
       "      <td>NICOBARS</td>\n",
       "      <td>2000</td>\n",
       "      <td>Kharif</td>\n",
       "      <td>Rice</td>\n",
       "      <td>102.0</td>\n",
       "      <td>321.0</td>\n",
       "    </tr>\n",
       "    <tr>\n",
       "      <th>3</th>\n",
       "      <td>Andaman and Nicobar Islands</td>\n",
       "      <td>NICOBARS</td>\n",
       "      <td>2000</td>\n",
       "      <td>Whole Year</td>\n",
       "      <td>Banana</td>\n",
       "      <td>176.0</td>\n",
       "      <td>641.0</td>\n",
       "    </tr>\n",
       "    <tr>\n",
       "      <th>4</th>\n",
       "      <td>Andaman and Nicobar Islands</td>\n",
       "      <td>NICOBARS</td>\n",
       "      <td>2000</td>\n",
       "      <td>Whole Year</td>\n",
       "      <td>Cashewnut</td>\n",
       "      <td>720.0</td>\n",
       "      <td>165.0</td>\n",
       "    </tr>\n",
       "  </tbody>\n",
       "</table>\n",
       "</div>"
      ],
      "text/plain": [
       "                    State_Name District_Name  Crop_Year       Season  \\\n",
       "0  Andaman and Nicobar Islands      NICOBARS       2000  Kharif        \n",
       "1  Andaman and Nicobar Islands      NICOBARS       2000  Kharif        \n",
       "2  Andaman and Nicobar Islands      NICOBARS       2000  Kharif        \n",
       "3  Andaman and Nicobar Islands      NICOBARS       2000  Whole Year    \n",
       "4  Andaman and Nicobar Islands      NICOBARS       2000  Whole Year    \n",
       "\n",
       "                  Crop  Area (in Hectares)  Production (in Tonnes)  \n",
       "0             Arecanut              1254.0                  2000.0  \n",
       "1  Other Kharif pulses                 2.0                     1.0  \n",
       "2                 Rice               102.0                   321.0  \n",
       "3               Banana               176.0                   641.0  \n",
       "4            Cashewnut               720.0                   165.0  "
      ]
     },
     "execution_count": 3,
     "metadata": {},
     "output_type": "execute_result"
    }
   ],
   "source": [
    "crop.head()"
   ]
  },
  {
   "cell_type": "code",
   "execution_count": 4,
   "metadata": {},
   "outputs": [],
   "source": [
    "crop['District_Name']=crop['District_Name'].str.title()"
   ]
  },
  {
   "cell_type": "code",
   "execution_count": 5,
   "metadata": {},
   "outputs": [
    {
     "data": {
      "text/html": [
       "<div>\n",
       "<style scoped>\n",
       "    .dataframe tbody tr th:only-of-type {\n",
       "        vertical-align: middle;\n",
       "    }\n",
       "\n",
       "    .dataframe tbody tr th {\n",
       "        vertical-align: top;\n",
       "    }\n",
       "\n",
       "    .dataframe thead th {\n",
       "        text-align: right;\n",
       "    }\n",
       "</style>\n",
       "<table border=\"1\" class=\"dataframe\">\n",
       "  <thead>\n",
       "    <tr style=\"text-align: right;\">\n",
       "      <th></th>\n",
       "      <th>State_Name</th>\n",
       "      <th>District_Name</th>\n",
       "      <th>Crop_Year</th>\n",
       "      <th>Season</th>\n",
       "      <th>Crop</th>\n",
       "      <th>Area (in Hectares)</th>\n",
       "      <th>Production (in Tonnes)</th>\n",
       "    </tr>\n",
       "  </thead>\n",
       "  <tbody>\n",
       "    <tr>\n",
       "      <th>0</th>\n",
       "      <td>Andaman and Nicobar Islands</td>\n",
       "      <td>Nicobars</td>\n",
       "      <td>2000</td>\n",
       "      <td>Kharif</td>\n",
       "      <td>Arecanut</td>\n",
       "      <td>1254.0</td>\n",
       "      <td>2000.0</td>\n",
       "    </tr>\n",
       "    <tr>\n",
       "      <th>1</th>\n",
       "      <td>Andaman and Nicobar Islands</td>\n",
       "      <td>Nicobars</td>\n",
       "      <td>2000</td>\n",
       "      <td>Kharif</td>\n",
       "      <td>Other Kharif pulses</td>\n",
       "      <td>2.0</td>\n",
       "      <td>1.0</td>\n",
       "    </tr>\n",
       "    <tr>\n",
       "      <th>2</th>\n",
       "      <td>Andaman and Nicobar Islands</td>\n",
       "      <td>Nicobars</td>\n",
       "      <td>2000</td>\n",
       "      <td>Kharif</td>\n",
       "      <td>Rice</td>\n",
       "      <td>102.0</td>\n",
       "      <td>321.0</td>\n",
       "    </tr>\n",
       "    <tr>\n",
       "      <th>3</th>\n",
       "      <td>Andaman and Nicobar Islands</td>\n",
       "      <td>Nicobars</td>\n",
       "      <td>2000</td>\n",
       "      <td>Whole Year</td>\n",
       "      <td>Banana</td>\n",
       "      <td>176.0</td>\n",
       "      <td>641.0</td>\n",
       "    </tr>\n",
       "    <tr>\n",
       "      <th>4</th>\n",
       "      <td>Andaman and Nicobar Islands</td>\n",
       "      <td>Nicobars</td>\n",
       "      <td>2000</td>\n",
       "      <td>Whole Year</td>\n",
       "      <td>Cashewnut</td>\n",
       "      <td>720.0</td>\n",
       "      <td>165.0</td>\n",
       "    </tr>\n",
       "  </tbody>\n",
       "</table>\n",
       "</div>"
      ],
      "text/plain": [
       "                    State_Name District_Name  Crop_Year       Season  \\\n",
       "0  Andaman and Nicobar Islands      Nicobars       2000  Kharif        \n",
       "1  Andaman and Nicobar Islands      Nicobars       2000  Kharif        \n",
       "2  Andaman and Nicobar Islands      Nicobars       2000  Kharif        \n",
       "3  Andaman and Nicobar Islands      Nicobars       2000  Whole Year    \n",
       "4  Andaman and Nicobar Islands      Nicobars       2000  Whole Year    \n",
       "\n",
       "                  Crop  Area (in Hectares)  Production (in Tonnes)  \n",
       "0             Arecanut              1254.0                  2000.0  \n",
       "1  Other Kharif pulses                 2.0                     1.0  \n",
       "2                 Rice               102.0                   321.0  \n",
       "3               Banana               176.0                   641.0  \n",
       "4            Cashewnut               720.0                   165.0  "
      ]
     },
     "execution_count": 5,
     "metadata": {},
     "output_type": "execute_result"
    }
   ],
   "source": [
    "crop.head()"
   ]
  },
  {
   "cell_type": "code",
   "execution_count": 6,
   "metadata": {},
   "outputs": [
    {
     "data": {
      "text/html": [
       "<div>\n",
       "<style scoped>\n",
       "    .dataframe tbody tr th:only-of-type {\n",
       "        vertical-align: middle;\n",
       "    }\n",
       "\n",
       "    .dataframe tbody tr th {\n",
       "        vertical-align: top;\n",
       "    }\n",
       "\n",
       "    .dataframe thead th {\n",
       "        text-align: right;\n",
       "    }\n",
       "</style>\n",
       "<table border=\"1\" class=\"dataframe\">\n",
       "  <thead>\n",
       "    <tr style=\"text-align: right;\">\n",
       "      <th></th>\n",
       "      <th>Crop_Year</th>\n",
       "      <th>Area (in Hectares)</th>\n",
       "      <th>Production (in Tonnes)</th>\n",
       "    </tr>\n",
       "  </thead>\n",
       "  <tbody>\n",
       "    <tr>\n",
       "      <th>count</th>\n",
       "      <td>246091.000000</td>\n",
       "      <td>2.460910e+05</td>\n",
       "      <td>2.423610e+05</td>\n",
       "    </tr>\n",
       "    <tr>\n",
       "      <th>mean</th>\n",
       "      <td>2005.643018</td>\n",
       "      <td>1.200282e+04</td>\n",
       "      <td>5.825034e+05</td>\n",
       "    </tr>\n",
       "    <tr>\n",
       "      <th>std</th>\n",
       "      <td>4.952164</td>\n",
       "      <td>5.052340e+04</td>\n",
       "      <td>1.706581e+07</td>\n",
       "    </tr>\n",
       "    <tr>\n",
       "      <th>min</th>\n",
       "      <td>1997.000000</td>\n",
       "      <td>4.000000e-02</td>\n",
       "      <td>0.000000e+00</td>\n",
       "    </tr>\n",
       "    <tr>\n",
       "      <th>25%</th>\n",
       "      <td>2002.000000</td>\n",
       "      <td>8.000000e+01</td>\n",
       "      <td>8.800000e+01</td>\n",
       "    </tr>\n",
       "    <tr>\n",
       "      <th>50%</th>\n",
       "      <td>2006.000000</td>\n",
       "      <td>5.820000e+02</td>\n",
       "      <td>7.290000e+02</td>\n",
       "    </tr>\n",
       "    <tr>\n",
       "      <th>75%</th>\n",
       "      <td>2010.000000</td>\n",
       "      <td>4.392000e+03</td>\n",
       "      <td>7.023000e+03</td>\n",
       "    </tr>\n",
       "    <tr>\n",
       "      <th>max</th>\n",
       "      <td>2015.000000</td>\n",
       "      <td>8.580100e+06</td>\n",
       "      <td>1.250800e+09</td>\n",
       "    </tr>\n",
       "  </tbody>\n",
       "</table>\n",
       "</div>"
      ],
      "text/plain": [
       "           Crop_Year  Area (in Hectares)  Production (in Tonnes)\n",
       "count  246091.000000        2.460910e+05            2.423610e+05\n",
       "mean     2005.643018        1.200282e+04            5.825034e+05\n",
       "std         4.952164        5.052340e+04            1.706581e+07\n",
       "min      1997.000000        4.000000e-02            0.000000e+00\n",
       "25%      2002.000000        8.000000e+01            8.800000e+01\n",
       "50%      2006.000000        5.820000e+02            7.290000e+02\n",
       "75%      2010.000000        4.392000e+03            7.023000e+03\n",
       "max      2015.000000        8.580100e+06            1.250800e+09"
      ]
     },
     "execution_count": 6,
     "metadata": {},
     "output_type": "execute_result"
    }
   ],
   "source": [
    "crop.describe()"
   ]
  },
  {
   "cell_type": "code",
   "execution_count": 7,
   "metadata": {},
   "outputs": [
    {
     "data": {
      "text/plain": [
       "['Andaman and Nicobar Islands',\n",
       " 'Andhra Pradesh',\n",
       " 'Arunachal Pradesh',\n",
       " 'Assam',\n",
       " 'Bihar',\n",
       " 'Chandigarh',\n",
       " 'Chhattisgarh',\n",
       " 'Dadra and Nagar Haveli',\n",
       " 'Goa',\n",
       " 'Gujarat',\n",
       " 'Haryana',\n",
       " 'Himachal Pradesh',\n",
       " 'Jammu and Kashmir ',\n",
       " 'Jharkhand',\n",
       " 'Karnataka',\n",
       " 'Kerala',\n",
       " 'Madhya Pradesh',\n",
       " 'Maharashtra',\n",
       " 'Manipur',\n",
       " 'Meghalaya',\n",
       " 'Mizoram',\n",
       " 'Nagaland',\n",
       " 'Odisha',\n",
       " 'Puducherry',\n",
       " 'Punjab',\n",
       " 'Rajasthan',\n",
       " 'Sikkim',\n",
       " 'Tamil Nadu',\n",
       " 'Telangana ',\n",
       " 'Tripura',\n",
       " 'Uttar Pradesh',\n",
       " 'Uttarakhand',\n",
       " 'West Bengal']"
      ]
     },
     "execution_count": 7,
     "metadata": {},
     "output_type": "execute_result"
    }
   ],
   "source": [
    "states=list(crop['State_Name'].unique())\n",
    "states"
   ]
  },
  {
   "cell_type": "code",
   "execution_count": 8,
   "metadata": {},
   "outputs": [
    {
     "data": {
      "text/plain": [
       "646"
      ]
     },
     "execution_count": 8,
     "metadata": {},
     "output_type": "execute_result"
    }
   ],
   "source": [
    "len(crop['District_Name'].unique())"
   ]
  },
  {
   "cell_type": "code",
   "execution_count": 9,
   "metadata": {},
   "outputs": [],
   "source": [
    "crop['Season']=crop['Season'].str.strip()"
   ]
  },
  {
   "cell_type": "code",
   "execution_count": 10,
   "metadata": {},
   "outputs": [
    {
     "data": {
      "text/plain": [
       "array(['Kharif', 'Whole Year', 'Autumn', 'Rabi', 'Summer', 'Winter'],\n",
       "      dtype=object)"
      ]
     },
     "execution_count": 10,
     "metadata": {},
     "output_type": "execute_result"
    }
   ],
   "source": [
    "crop['Season'].unique()"
   ]
  },
  {
   "cell_type": "code",
   "execution_count": 11,
   "metadata": {},
   "outputs": [
    {
     "data": {
      "text/plain": [
       "124"
      ]
     },
     "execution_count": 11,
     "metadata": {},
     "output_type": "execute_result"
    }
   ],
   "source": [
    "len(crop['Crop'].unique())"
   ]
  },
  {
   "cell_type": "code",
   "execution_count": 12,
   "metadata": {},
   "outputs": [],
   "source": [
    "import numpy as np\n",
    "crop=crop[crop['Area (in Hectares)']<np.percentile(crop['Area (in Hectares)'],99)]\n",
    "crop=crop[crop['Area (in Hectares)']>0]\n",
    "crop=crop[crop['Area (in Hectares)']>np.percentile(crop['Area (in Hectares)'],1)]"
   ]
  },
  {
   "cell_type": "code",
   "execution_count": 13,
   "metadata": {},
   "outputs": [
    {
     "data": {
      "text/html": [
       "<div>\n",
       "<style scoped>\n",
       "    .dataframe tbody tr th:only-of-type {\n",
       "        vertical-align: middle;\n",
       "    }\n",
       "\n",
       "    .dataframe tbody tr th {\n",
       "        vertical-align: top;\n",
       "    }\n",
       "\n",
       "    .dataframe thead th {\n",
       "        text-align: right;\n",
       "    }\n",
       "</style>\n",
       "<table border=\"1\" class=\"dataframe\">\n",
       "  <thead>\n",
       "    <tr style=\"text-align: right;\">\n",
       "      <th></th>\n",
       "      <th>State_Name</th>\n",
       "      <th>District_Name</th>\n",
       "      <th>Crop_Year</th>\n",
       "      <th>Season</th>\n",
       "      <th>Crop</th>\n",
       "      <th>Area (in Hectares)</th>\n",
       "      <th>Production (in Tonnes)</th>\n",
       "    </tr>\n",
       "  </thead>\n",
       "  <tbody>\n",
       "    <tr>\n",
       "      <th>0</th>\n",
       "      <td>Andaman and Nicobar Islands</td>\n",
       "      <td>Nicobars</td>\n",
       "      <td>2000</td>\n",
       "      <td>Kharif</td>\n",
       "      <td>Arecanut</td>\n",
       "      <td>1254.0</td>\n",
       "      <td>2000.0</td>\n",
       "    </tr>\n",
       "    <tr>\n",
       "      <th>1</th>\n",
       "      <td>Andaman and Nicobar Islands</td>\n",
       "      <td>Nicobars</td>\n",
       "      <td>2000</td>\n",
       "      <td>Kharif</td>\n",
       "      <td>Other Kharif pulses</td>\n",
       "      <td>2.0</td>\n",
       "      <td>1.0</td>\n",
       "    </tr>\n",
       "    <tr>\n",
       "      <th>2</th>\n",
       "      <td>Andaman and Nicobar Islands</td>\n",
       "      <td>Nicobars</td>\n",
       "      <td>2000</td>\n",
       "      <td>Kharif</td>\n",
       "      <td>Rice</td>\n",
       "      <td>102.0</td>\n",
       "      <td>321.0</td>\n",
       "    </tr>\n",
       "    <tr>\n",
       "      <th>3</th>\n",
       "      <td>Andaman and Nicobar Islands</td>\n",
       "      <td>Nicobars</td>\n",
       "      <td>2000</td>\n",
       "      <td>Whole Year</td>\n",
       "      <td>Banana</td>\n",
       "      <td>176.0</td>\n",
       "      <td>641.0</td>\n",
       "    </tr>\n",
       "    <tr>\n",
       "      <th>4</th>\n",
       "      <td>Andaman and Nicobar Islands</td>\n",
       "      <td>Nicobars</td>\n",
       "      <td>2000</td>\n",
       "      <td>Whole Year</td>\n",
       "      <td>Cashewnut</td>\n",
       "      <td>720.0</td>\n",
       "      <td>165.0</td>\n",
       "    </tr>\n",
       "    <tr>\n",
       "      <th>...</th>\n",
       "      <td>...</td>\n",
       "      <td>...</td>\n",
       "      <td>...</td>\n",
       "      <td>...</td>\n",
       "      <td>...</td>\n",
       "      <td>...</td>\n",
       "      <td>...</td>\n",
       "    </tr>\n",
       "    <tr>\n",
       "      <th>246085</th>\n",
       "      <td>West Bengal</td>\n",
       "      <td>Purulia</td>\n",
       "      <td>2014</td>\n",
       "      <td>Summer</td>\n",
       "      <td>Maize</td>\n",
       "      <td>325.0</td>\n",
       "      <td>2039.0</td>\n",
       "    </tr>\n",
       "    <tr>\n",
       "      <th>246086</th>\n",
       "      <td>West Bengal</td>\n",
       "      <td>Purulia</td>\n",
       "      <td>2014</td>\n",
       "      <td>Summer</td>\n",
       "      <td>Rice</td>\n",
       "      <td>306.0</td>\n",
       "      <td>801.0</td>\n",
       "    </tr>\n",
       "    <tr>\n",
       "      <th>246087</th>\n",
       "      <td>West Bengal</td>\n",
       "      <td>Purulia</td>\n",
       "      <td>2014</td>\n",
       "      <td>Summer</td>\n",
       "      <td>Sesamum</td>\n",
       "      <td>627.0</td>\n",
       "      <td>463.0</td>\n",
       "    </tr>\n",
       "    <tr>\n",
       "      <th>246088</th>\n",
       "      <td>West Bengal</td>\n",
       "      <td>Purulia</td>\n",
       "      <td>2014</td>\n",
       "      <td>Whole Year</td>\n",
       "      <td>Sugarcane</td>\n",
       "      <td>324.0</td>\n",
       "      <td>16250.0</td>\n",
       "    </tr>\n",
       "    <tr>\n",
       "      <th>246090</th>\n",
       "      <td>West Bengal</td>\n",
       "      <td>Purulia</td>\n",
       "      <td>2014</td>\n",
       "      <td>Winter</td>\n",
       "      <td>Sesamum</td>\n",
       "      <td>175.0</td>\n",
       "      <td>88.0</td>\n",
       "    </tr>\n",
       "  </tbody>\n",
       "</table>\n",
       "<p>239051 rows × 7 columns</p>\n",
       "</div>"
      ],
      "text/plain": [
       "                         State_Name District_Name  Crop_Year      Season  \\\n",
       "0       Andaman and Nicobar Islands      Nicobars       2000      Kharif   \n",
       "1       Andaman and Nicobar Islands      Nicobars       2000      Kharif   \n",
       "2       Andaman and Nicobar Islands      Nicobars       2000      Kharif   \n",
       "3       Andaman and Nicobar Islands      Nicobars       2000  Whole Year   \n",
       "4       Andaman and Nicobar Islands      Nicobars       2000  Whole Year   \n",
       "...                             ...           ...        ...         ...   \n",
       "246085                  West Bengal       Purulia       2014      Summer   \n",
       "246086                  West Bengal       Purulia       2014      Summer   \n",
       "246087                  West Bengal       Purulia       2014      Summer   \n",
       "246088                  West Bengal       Purulia       2014  Whole Year   \n",
       "246090                  West Bengal       Purulia       2014      Winter   \n",
       "\n",
       "                       Crop  Area (in Hectares)  Production (in Tonnes)  \n",
       "0                  Arecanut              1254.0                  2000.0  \n",
       "1       Other Kharif pulses                 2.0                     1.0  \n",
       "2                      Rice               102.0                   321.0  \n",
       "3                    Banana               176.0                   641.0  \n",
       "4                 Cashewnut               720.0                   165.0  \n",
       "...                     ...                 ...                     ...  \n",
       "246085                Maize               325.0                  2039.0  \n",
       "246086                 Rice               306.0                   801.0  \n",
       "246087              Sesamum               627.0                   463.0  \n",
       "246088            Sugarcane               324.0                 16250.0  \n",
       "246090              Sesamum               175.0                    88.0  \n",
       "\n",
       "[239051 rows x 7 columns]"
      ]
     },
     "execution_count": 13,
     "metadata": {},
     "output_type": "execute_result"
    }
   ],
   "source": [
    "crop"
   ]
  },
  {
   "cell_type": "code",
   "execution_count": 14,
   "metadata": {},
   "outputs": [],
   "source": [
    "crop=crop[crop['Production (in Tonnes)']>0]\n",
    "crop=crop[crop['Production (in Tonnes)']<np.percentile(crop['Production (in Tonnes)'],99)]\n",
    "crop=crop[crop['Production (in Tonnes)']>np.percentile(crop['Production (in Tonnes)'],1)]"
   ]
  },
  {
   "cell_type": "code",
   "execution_count": 15,
   "metadata": {},
   "outputs": [
    {
     "data": {
      "text/html": [
       "<div>\n",
       "<style scoped>\n",
       "    .dataframe tbody tr th:only-of-type {\n",
       "        vertical-align: middle;\n",
       "    }\n",
       "\n",
       "    .dataframe tbody tr th {\n",
       "        vertical-align: top;\n",
       "    }\n",
       "\n",
       "    .dataframe thead th {\n",
       "        text-align: right;\n",
       "    }\n",
       "</style>\n",
       "<table border=\"1\" class=\"dataframe\">\n",
       "  <thead>\n",
       "    <tr style=\"text-align: right;\">\n",
       "      <th></th>\n",
       "      <th>State_Name</th>\n",
       "      <th>District_Name</th>\n",
       "      <th>Crop_Year</th>\n",
       "      <th>Season</th>\n",
       "      <th>Crop</th>\n",
       "      <th>Area (in Hectares)</th>\n",
       "      <th>Production (in Tonnes)</th>\n",
       "    </tr>\n",
       "  </thead>\n",
       "  <tbody>\n",
       "    <tr>\n",
       "      <th>0</th>\n",
       "      <td>Andaman and Nicobar Islands</td>\n",
       "      <td>Nicobars</td>\n",
       "      <td>2000</td>\n",
       "      <td>Kharif</td>\n",
       "      <td>Arecanut</td>\n",
       "      <td>1254.0</td>\n",
       "      <td>2000.0</td>\n",
       "    </tr>\n",
       "    <tr>\n",
       "      <th>2</th>\n",
       "      <td>Andaman and Nicobar Islands</td>\n",
       "      <td>Nicobars</td>\n",
       "      <td>2000</td>\n",
       "      <td>Kharif</td>\n",
       "      <td>Rice</td>\n",
       "      <td>102.0</td>\n",
       "      <td>321.0</td>\n",
       "    </tr>\n",
       "    <tr>\n",
       "      <th>3</th>\n",
       "      <td>Andaman and Nicobar Islands</td>\n",
       "      <td>Nicobars</td>\n",
       "      <td>2000</td>\n",
       "      <td>Whole Year</td>\n",
       "      <td>Banana</td>\n",
       "      <td>176.0</td>\n",
       "      <td>641.0</td>\n",
       "    </tr>\n",
       "    <tr>\n",
       "      <th>4</th>\n",
       "      <td>Andaman and Nicobar Islands</td>\n",
       "      <td>Nicobars</td>\n",
       "      <td>2000</td>\n",
       "      <td>Whole Year</td>\n",
       "      <td>Cashewnut</td>\n",
       "      <td>720.0</td>\n",
       "      <td>165.0</td>\n",
       "    </tr>\n",
       "    <tr>\n",
       "      <th>6</th>\n",
       "      <td>Andaman and Nicobar Islands</td>\n",
       "      <td>Nicobars</td>\n",
       "      <td>2000</td>\n",
       "      <td>Whole Year</td>\n",
       "      <td>Dry ginger</td>\n",
       "      <td>36.0</td>\n",
       "      <td>100.0</td>\n",
       "    </tr>\n",
       "    <tr>\n",
       "      <th>...</th>\n",
       "      <td>...</td>\n",
       "      <td>...</td>\n",
       "      <td>...</td>\n",
       "      <td>...</td>\n",
       "      <td>...</td>\n",
       "      <td>...</td>\n",
       "      <td>...</td>\n",
       "    </tr>\n",
       "    <tr>\n",
       "      <th>246085</th>\n",
       "      <td>West Bengal</td>\n",
       "      <td>Purulia</td>\n",
       "      <td>2014</td>\n",
       "      <td>Summer</td>\n",
       "      <td>Maize</td>\n",
       "      <td>325.0</td>\n",
       "      <td>2039.0</td>\n",
       "    </tr>\n",
       "    <tr>\n",
       "      <th>246086</th>\n",
       "      <td>West Bengal</td>\n",
       "      <td>Purulia</td>\n",
       "      <td>2014</td>\n",
       "      <td>Summer</td>\n",
       "      <td>Rice</td>\n",
       "      <td>306.0</td>\n",
       "      <td>801.0</td>\n",
       "    </tr>\n",
       "    <tr>\n",
       "      <th>246087</th>\n",
       "      <td>West Bengal</td>\n",
       "      <td>Purulia</td>\n",
       "      <td>2014</td>\n",
       "      <td>Summer</td>\n",
       "      <td>Sesamum</td>\n",
       "      <td>627.0</td>\n",
       "      <td>463.0</td>\n",
       "    </tr>\n",
       "    <tr>\n",
       "      <th>246088</th>\n",
       "      <td>West Bengal</td>\n",
       "      <td>Purulia</td>\n",
       "      <td>2014</td>\n",
       "      <td>Whole Year</td>\n",
       "      <td>Sugarcane</td>\n",
       "      <td>324.0</td>\n",
       "      <td>16250.0</td>\n",
       "    </tr>\n",
       "    <tr>\n",
       "      <th>246090</th>\n",
       "      <td>West Bengal</td>\n",
       "      <td>Purulia</td>\n",
       "      <td>2014</td>\n",
       "      <td>Winter</td>\n",
       "      <td>Sesamum</td>\n",
       "      <td>175.0</td>\n",
       "      <td>88.0</td>\n",
       "    </tr>\n",
       "  </tbody>\n",
       "</table>\n",
       "<p>227978 rows × 7 columns</p>\n",
       "</div>"
      ],
      "text/plain": [
       "                         State_Name District_Name  Crop_Year      Season  \\\n",
       "0       Andaman and Nicobar Islands      Nicobars       2000      Kharif   \n",
       "2       Andaman and Nicobar Islands      Nicobars       2000      Kharif   \n",
       "3       Andaman and Nicobar Islands      Nicobars       2000  Whole Year   \n",
       "4       Andaman and Nicobar Islands      Nicobars       2000  Whole Year   \n",
       "6       Andaman and Nicobar Islands      Nicobars       2000  Whole Year   \n",
       "...                             ...           ...        ...         ...   \n",
       "246085                  West Bengal       Purulia       2014      Summer   \n",
       "246086                  West Bengal       Purulia       2014      Summer   \n",
       "246087                  West Bengal       Purulia       2014      Summer   \n",
       "246088                  West Bengal       Purulia       2014  Whole Year   \n",
       "246090                  West Bengal       Purulia       2014      Winter   \n",
       "\n",
       "              Crop  Area (in Hectares)  Production (in Tonnes)  \n",
       "0         Arecanut              1254.0                  2000.0  \n",
       "2             Rice               102.0                   321.0  \n",
       "3           Banana               176.0                   641.0  \n",
       "4        Cashewnut               720.0                   165.0  \n",
       "6       Dry ginger                36.0                   100.0  \n",
       "...            ...                 ...                     ...  \n",
       "246085       Maize               325.0                  2039.0  \n",
       "246086        Rice               306.0                   801.0  \n",
       "246087     Sesamum               627.0                   463.0  \n",
       "246088   Sugarcane               324.0                 16250.0  \n",
       "246090     Sesamum               175.0                    88.0  \n",
       "\n",
       "[227978 rows x 7 columns]"
      ]
     },
     "execution_count": 15,
     "metadata": {},
     "output_type": "execute_result"
    }
   ],
   "source": [
    "crop"
   ]
  },
  {
   "cell_type": "code",
   "execution_count": 16,
   "metadata": {},
   "outputs": [
    {
     "data": {
      "text/plain": [
       "<matplotlib.axes._subplots.AxesSubplot at 0x7f921b070c10>"
      ]
     },
     "execution_count": 16,
     "metadata": {},
     "output_type": "execute_result"
    },
    {
     "data": {
      "image/png": "[encoded data removed]",
      "text/plain": [
       "<Figure size 432x288 with 1 Axes>"
      ]
     },
     "metadata": {},
     "output_type": "display_data"
    }
   ],
   "source": [
    "sns.countplot(crop['Season'])"
   ]
  },
  {
   "cell_type": "code",
   "execution_count": 17,
   "metadata": {},
   "outputs": [
    {
     "data": {
      "text/plain": [
       "<matplotlib.axes._subplots.AxesSubplot at 0x7f9217be57d0>"
      ]
     },
     "execution_count": 17,
     "metadata": {},
     "output_type": "execute_result"
    },
    {
     "data": {
      "image/png": "[encoded data removed]",
      "text/plain": [
       "<Figure size 432x288 with 1 Axes>"
      ]
     },
     "metadata": {},
     "output_type": "display_data"
    }
   ],
   "source": [
    "sns.scatterplot(crop['Area (in Hectares)'],crop['Production (in Tonnes)'])"
   ]
  },
  {
   "cell_type": "code",
   "execution_count": 18,
   "metadata": {},
   "outputs": [],
   "source": [
    "from category_encoders import TargetEncoder"
   ]
  },
  {
   "cell_type": "code",
   "execution_count": 19,
   "metadata": {},
   "outputs": [],
   "source": [
    "enc=TargetEncoder().fit(crop[['State_Name','District_Name','Crop_Year','Season','Crop','Area (in Hectares)']],\n",
    "                  crop['Production (in Tonnes)'])"
   ]
  },
  {
   "cell_type": "code",
   "execution_count": 20,
   "metadata": {},
   "outputs": [
    {
     "data": {
      "text/plain": [
       "TargetEncoder(cols=['State_Name', 'District_Name', 'Season', 'Crop'],\n",
       "              drop_invariant=False, handle_missing='value',\n",
       "              handle_unknown='value', min_samples_leaf=1, return_df=True,\n",
       "              smoothing=1.0, verbose=0)"
      ]
     },
     "execution_count": 20,
     "metadata": {},
     "output_type": "execute_result"
    }
   ],
   "source": [
    "enc"
   ]
  },
  {
   "cell_type": "code",
   "execution_count": 21,
   "metadata": {},
   "outputs": [],
   "source": [
    "import joblib"
   ]
  },
  {
   "cell_type": "code",
   "execution_count": 22,
   "metadata": {},
   "outputs": [
    {
     "data": {
      "text/plain": [
       "['encoder.pkl']"
      ]
     },
     "execution_count": 22,
     "metadata": {},
     "output_type": "execute_result"
    }
   ],
   "source": [
    "joblib.dump(enc,'encoder.pkl')"
   ]
  },
  {
   "cell_type": "code",
   "execution_count": 23,
   "metadata": {},
   "outputs": [],
   "source": [
    "crop[['State_Name','District_Name','Crop_Year','Season','Crop','Area (in Hectares)']]=enc.transform(crop[['State_Name','District_Name','Crop_Year','Season','Crop','Area (in Hectares)']])"
   ]
  },
  {
   "cell_type": "code",
   "execution_count": 24,
   "metadata": {},
   "outputs": [
    {
     "data": {
      "text/html": [
       "<div>\n",
       "<style scoped>\n",
       "    .dataframe tbody tr th:only-of-type {\n",
       "        vertical-align: middle;\n",
       "    }\n",
       "\n",
       "    .dataframe tbody tr th {\n",
       "        vertical-align: top;\n",
       "    }\n",
       "\n",
       "    .dataframe thead th {\n",
       "        text-align: right;\n",
       "    }\n",
       "</style>\n",
       "<table border=\"1\" class=\"dataframe\">\n",
       "  <thead>\n",
       "    <tr style=\"text-align: right;\">\n",
       "      <th></th>\n",
       "      <th>State_Name</th>\n",
       "      <th>District_Name</th>\n",
       "      <th>Crop_Year</th>\n",
       "      <th>Season</th>\n",
       "      <th>Crop</th>\n",
       "      <th>Area (in Hectares)</th>\n",
       "      <th>Production (in Tonnes)</th>\n",
       "    </tr>\n",
       "  </thead>\n",
       "  <tbody>\n",
       "    <tr>\n",
       "      <th>0</th>\n",
       "      <td>2518.792442</td>\n",
       "      <td>431.356949</td>\n",
       "      <td>2000</td>\n",
       "      <td>19581.854677</td>\n",
       "      <td>13519.281502</td>\n",
       "      <td>1254.0</td>\n",
       "      <td>2000.0</td>\n",
       "    </tr>\n",
       "    <tr>\n",
       "      <th>2</th>\n",
       "      <td>2518.792442</td>\n",
       "      <td>431.356949</td>\n",
       "      <td>2000</td>\n",
       "      <td>19581.854677</td>\n",
       "      <td>82453.055193</td>\n",
       "      <td>102.0</td>\n",
       "      <td>321.0</td>\n",
       "    </tr>\n",
       "    <tr>\n",
       "      <th>3</th>\n",
       "      <td>2518.792442</td>\n",
       "      <td>431.356949</td>\n",
       "      <td>2000</td>\n",
       "      <td>25084.265178</td>\n",
       "      <td>46893.161299</td>\n",
       "      <td>176.0</td>\n",
       "      <td>641.0</td>\n",
       "    </tr>\n",
       "    <tr>\n",
       "      <th>4</th>\n",
       "      <td>2518.792442</td>\n",
       "      <td>431.356949</td>\n",
       "      <td>2000</td>\n",
       "      <td>25084.265178</td>\n",
       "      <td>2513.477722</td>\n",
       "      <td>720.0</td>\n",
       "      <td>165.0</td>\n",
       "    </tr>\n",
       "    <tr>\n",
       "      <th>6</th>\n",
       "      <td>2518.792442</td>\n",
       "      <td>431.356949</td>\n",
       "      <td>2000</td>\n",
       "      <td>25084.265178</td>\n",
       "      <td>3168.942062</td>\n",
       "      <td>36.0</td>\n",
       "      <td>100.0</td>\n",
       "    </tr>\n",
       "    <tr>\n",
       "      <th>...</th>\n",
       "      <td>...</td>\n",
       "      <td>...</td>\n",
       "      <td>...</td>\n",
       "      <td>...</td>\n",
       "      <td>...</td>\n",
       "      <td>...</td>\n",
       "      <td>...</td>\n",
       "    </tr>\n",
       "    <tr>\n",
       "      <th>246085</th>\n",
       "      <td>32959.704925</td>\n",
       "      <td>3643.511419</td>\n",
       "      <td>2014</td>\n",
       "      <td>11156.300989</td>\n",
       "      <td>19927.386792</td>\n",
       "      <td>325.0</td>\n",
       "      <td>2039.0</td>\n",
       "    </tr>\n",
       "    <tr>\n",
       "      <th>246086</th>\n",
       "      <td>32959.704925</td>\n",
       "      <td>3643.511419</td>\n",
       "      <td>2014</td>\n",
       "      <td>11156.300989</td>\n",
       "      <td>82453.055193</td>\n",
       "      <td>306.0</td>\n",
       "      <td>801.0</td>\n",
       "    </tr>\n",
       "    <tr>\n",
       "      <th>246087</th>\n",
       "      <td>32959.704925</td>\n",
       "      <td>3643.511419</td>\n",
       "      <td>2014</td>\n",
       "      <td>11156.300989</td>\n",
       "      <td>1303.281339</td>\n",
       "      <td>627.0</td>\n",
       "      <td>463.0</td>\n",
       "    </tr>\n",
       "    <tr>\n",
       "      <th>246088</th>\n",
       "      <td>32959.704925</td>\n",
       "      <td>3643.511419</td>\n",
       "      <td>2014</td>\n",
       "      <td>25084.265178</td>\n",
       "      <td>111425.913929</td>\n",
       "      <td>324.0</td>\n",
       "      <td>16250.0</td>\n",
       "    </tr>\n",
       "    <tr>\n",
       "      <th>246090</th>\n",
       "      <td>32959.704925</td>\n",
       "      <td>3643.511419</td>\n",
       "      <td>2014</td>\n",
       "      <td>48823.850675</td>\n",
       "      <td>1303.281339</td>\n",
       "      <td>175.0</td>\n",
       "      <td>88.0</td>\n",
       "    </tr>\n",
       "  </tbody>\n",
       "</table>\n",
       "<p>227978 rows × 7 columns</p>\n",
       "</div>"
      ],
      "text/plain": [
       "          State_Name  District_Name  Crop_Year        Season           Crop  \\\n",
       "0        2518.792442     431.356949       2000  19581.854677   13519.281502   \n",
       "2        2518.792442     431.356949       2000  19581.854677   82453.055193   \n",
       "3        2518.792442     431.356949       2000  25084.265178   46893.161299   \n",
       "4        2518.792442     431.356949       2000  25084.265178    2513.477722   \n",
       "6        2518.792442     431.356949       2000  25084.265178    3168.942062   \n",
       "...              ...            ...        ...           ...            ...   \n",
       "246085  32959.704925    3643.511419       2014  11156.300989   19927.386792   \n",
       "246086  32959.704925    3643.511419       2014  11156.300989   82453.055193   \n",
       "246087  32959.704925    3643.511419       2014  11156.300989    1303.281339   \n",
       "246088  32959.704925    3643.511419       2014  25084.265178  111425.913929   \n",
       "246090  32959.704925    3643.511419       2014  48823.850675    1303.281339   \n",
       "\n",
       "        Area (in Hectares)  Production (in Tonnes)  \n",
       "0                   1254.0                  2000.0  \n",
       "2                    102.0                   321.0  \n",
       "3                    176.0                   641.0  \n",
       "4                    720.0                   165.0  \n",
       "6                     36.0                   100.0  \n",
       "...                    ...                     ...  \n",
       "246085               325.0                  2039.0  \n",
       "246086               306.0                   801.0  \n",
       "246087               627.0                   463.0  \n",
       "246088               324.0                 16250.0  \n",
       "246090               175.0                    88.0  \n",
       "\n",
       "[227978 rows x 7 columns]"
      ]
     },
     "execution_count": 24,
     "metadata": {},
     "output_type": "execute_result"
    }
   ],
   "source": [
    "crop"
   ]
  },
  {
   "cell_type": "code",
   "execution_count": 25,
   "metadata": {},
   "outputs": [],
   "source": [
    "from sklearn.model_selection import train_test_split\n",
    "x=crop.drop('Production (in Tonnes)',axis=1)\n",
    "y=crop['Production (in Tonnes)']\n",
    "xtrain,xtest,ytrain,ytest=train_test_split(x,y)"
   ]
  },
  {
   "cell_type": "code",
   "execution_count": 26,
   "metadata": {},
   "outputs": [
    {
     "data": {
      "text/html": [
       "<div>\n",
       "<style scoped>\n",
       "    .dataframe tbody tr th:only-of-type {\n",
       "        vertical-align: middle;\n",
       "    }\n",
       "\n",
       "    .dataframe tbody tr th {\n",
       "        vertical-align: top;\n",
       "    }\n",
       "\n",
       "    .dataframe thead th {\n",
       "        text-align: right;\n",
       "    }\n",
       "</style>\n",
       "<table border=\"1\" class=\"dataframe\">\n",
       "  <thead>\n",
       "    <tr style=\"text-align: right;\">\n",
       "      <th></th>\n",
       "      <th>State_Name</th>\n",
       "      <th>District_Name</th>\n",
       "      <th>Crop_Year</th>\n",
       "      <th>Season</th>\n",
       "      <th>Crop</th>\n",
       "      <th>Area (in Hectares)</th>\n",
       "    </tr>\n",
       "  </thead>\n",
       "  <tbody>\n",
       "    <tr>\n",
       "      <th>140073</th>\n",
       "      <td>4241.064776</td>\n",
       "      <td>8681.220395</td>\n",
       "      <td>2008</td>\n",
       "      <td>25084.265178</td>\n",
       "      <td>2800.784503</td>\n",
       "      <td>122.0</td>\n",
       "    </tr>\n",
       "    <tr>\n",
       "      <th>33782</th>\n",
       "      <td>15539.062455</td>\n",
       "      <td>24159.850226</td>\n",
       "      <td>1998</td>\n",
       "      <td>25084.265178</td>\n",
       "      <td>9717.040561</td>\n",
       "      <td>50.0</td>\n",
       "    </tr>\n",
       "    <tr>\n",
       "      <th>230427</th>\n",
       "      <td>30710.086236</td>\n",
       "      <td>50330.939024</td>\n",
       "      <td>2009</td>\n",
       "      <td>19581.854677</td>\n",
       "      <td>2382.548858</td>\n",
       "      <td>3333.0</td>\n",
       "    </tr>\n",
       "    <tr>\n",
       "      <th>129602</th>\n",
       "      <td>24712.125891</td>\n",
       "      <td>33540.137363</td>\n",
       "      <td>2011</td>\n",
       "      <td>19581.854677</td>\n",
       "      <td>19927.386792</td>\n",
       "      <td>600.0</td>\n",
       "    </tr>\n",
       "    <tr>\n",
       "      <th>117314</th>\n",
       "      <td>16712.384005</td>\n",
       "      <td>20933.180365</td>\n",
       "      <td>2012</td>\n",
       "      <td>22212.141104</td>\n",
       "      <td>3246.128077</td>\n",
       "      <td>16305.0</td>\n",
       "    </tr>\n",
       "    <tr>\n",
       "      <th>...</th>\n",
       "      <td>...</td>\n",
       "      <td>...</td>\n",
       "      <td>...</td>\n",
       "      <td>...</td>\n",
       "      <td>...</td>\n",
       "      <td>...</td>\n",
       "    </tr>\n",
       "    <tr>\n",
       "      <th>65906</th>\n",
       "      <td>69062.686145</td>\n",
       "      <td>80932.960674</td>\n",
       "      <td>2012</td>\n",
       "      <td>22212.141104</td>\n",
       "      <td>3246.128077</td>\n",
       "      <td>555.0</td>\n",
       "    </tr>\n",
       "    <tr>\n",
       "      <th>71576</th>\n",
       "      <td>7701.129758</td>\n",
       "      <td>3365.776439</td>\n",
       "      <td>2002</td>\n",
       "      <td>25084.265178</td>\n",
       "      <td>111425.913929</td>\n",
       "      <td>64.0</td>\n",
       "    </tr>\n",
       "    <tr>\n",
       "      <th>147758</th>\n",
       "      <td>10472.419227</td>\n",
       "      <td>14320.407171</td>\n",
       "      <td>2012</td>\n",
       "      <td>48823.850675</td>\n",
       "      <td>8933.676700</td>\n",
       "      <td>600.0</td>\n",
       "    </tr>\n",
       "    <tr>\n",
       "      <th>143009</th>\n",
       "      <td>3269.966701</td>\n",
       "      <td>6847.874396</td>\n",
       "      <td>2003</td>\n",
       "      <td>22212.141104</td>\n",
       "      <td>2006.613008</td>\n",
       "      <td>1070.0</td>\n",
       "    </tr>\n",
       "    <tr>\n",
       "      <th>178119</th>\n",
       "      <td>33059.446298</td>\n",
       "      <td>31143.299763</td>\n",
       "      <td>2006</td>\n",
       "      <td>25084.265178</td>\n",
       "      <td>46893.161299</td>\n",
       "      <td>9948.0</td>\n",
       "    </tr>\n",
       "  </tbody>\n",
       "</table>\n",
       "<p>170983 rows × 6 columns</p>\n",
       "</div>"
      ],
      "text/plain": [
       "          State_Name  District_Name  Crop_Year        Season           Crop  \\\n",
       "140073   4241.064776    8681.220395       2008  25084.265178    2800.784503   \n",
       "33782   15539.062455   24159.850226       1998  25084.265178    9717.040561   \n",
       "230427  30710.086236   50330.939024       2009  19581.854677    2382.548858   \n",
       "129602  24712.125891   33540.137363       2011  19581.854677   19927.386792   \n",
       "117314  16712.384005   20933.180365       2012  22212.141104    3246.128077   \n",
       "...              ...            ...        ...           ...            ...   \n",
       "65906   69062.686145   80932.960674       2012  22212.141104    3246.128077   \n",
       "71576    7701.129758    3365.776439       2002  25084.265178  111425.913929   \n",
       "147758  10472.419227   14320.407171       2012  48823.850675    8933.676700   \n",
       "143009   3269.966701    6847.874396       2003  22212.141104    2006.613008   \n",
       "178119  33059.446298   31143.299763       2006  25084.265178   46893.161299   \n",
       "\n",
       "        Area (in Hectares)  \n",
       "140073               122.0  \n",
       "33782                 50.0  \n",
       "230427              3333.0  \n",
       "129602               600.0  \n",
       "117314             16305.0  \n",
       "...                    ...  \n",
       "65906                555.0  \n",
       "71576                 64.0  \n",
       "147758               600.0  \n",
       "143009              1070.0  \n",
       "178119              9948.0  \n",
       "\n",
       "[170983 rows x 6 columns]"
      ]
     },
     "execution_count": 26,
     "metadata": {},
     "output_type": "execute_result"
    }
   ],
   "source": [
    "xtrain"
   ]
  },
  {
   "cell_type": "code",
   "execution_count": 27,
   "metadata": {},
   "outputs": [
    {
     "data": {
      "text/html": [
       "<div>\n",
       "<style scoped>\n",
       "    .dataframe tbody tr th:only-of-type {\n",
       "        vertical-align: middle;\n",
       "    }\n",
       "\n",
       "    .dataframe tbody tr th {\n",
       "        vertical-align: top;\n",
       "    }\n",
       "\n",
       "    .dataframe thead th {\n",
       "        text-align: right;\n",
       "    }\n",
       "</style>\n",
       "<table border=\"1\" class=\"dataframe\">\n",
       "  <thead>\n",
       "    <tr style=\"text-align: right;\">\n",
       "      <th></th>\n",
       "      <th>State_Name</th>\n",
       "      <th>District_Name</th>\n",
       "      <th>Crop_Year</th>\n",
       "      <th>Season</th>\n",
       "      <th>Crop</th>\n",
       "      <th>Area (in Hectares)</th>\n",
       "    </tr>\n",
       "  </thead>\n",
       "  <tbody>\n",
       "    <tr>\n",
       "      <th>60601</th>\n",
       "      <td>29862.393928</td>\n",
       "      <td>52334.278107</td>\n",
       "      <td>2004</td>\n",
       "      <td>22212.141104</td>\n",
       "      <td>12909.658425</td>\n",
       "      <td>3700.0</td>\n",
       "    </tr>\n",
       "    <tr>\n",
       "      <th>79723</th>\n",
       "      <td>18459.854074</td>\n",
       "      <td>26759.421161</td>\n",
       "      <td>2005</td>\n",
       "      <td>11156.300989</td>\n",
       "      <td>2800.784503</td>\n",
       "      <td>63.0</td>\n",
       "    </tr>\n",
       "    <tr>\n",
       "      <th>149039</th>\n",
       "      <td>10472.419227</td>\n",
       "      <td>4523.310337</td>\n",
       "      <td>1998</td>\n",
       "      <td>13317.681635</td>\n",
       "      <td>8933.676700</td>\n",
       "      <td>37.0</td>\n",
       "    </tr>\n",
       "    <tr>\n",
       "      <th>147897</th>\n",
       "      <td>10472.419227</td>\n",
       "      <td>7173.128228</td>\n",
       "      <td>1999</td>\n",
       "      <td>22212.141104</td>\n",
       "      <td>122931.772167</td>\n",
       "      <td>810.0</td>\n",
       "    </tr>\n",
       "    <tr>\n",
       "      <th>156848</th>\n",
       "      <td>10472.419227</td>\n",
       "      <td>17897.005896</td>\n",
       "      <td>2001</td>\n",
       "      <td>22212.141104</td>\n",
       "      <td>613.712458</td>\n",
       "      <td>2850.0</td>\n",
       "    </tr>\n",
       "    <tr>\n",
       "      <th>...</th>\n",
       "      <td>...</td>\n",
       "      <td>...</td>\n",
       "      <td>...</td>\n",
       "      <td>...</td>\n",
       "      <td>...</td>\n",
       "      <td>...</td>\n",
       "    </tr>\n",
       "    <tr>\n",
       "      <th>44786</th>\n",
       "      <td>15539.062455</td>\n",
       "      <td>17293.772222</td>\n",
       "      <td>1997</td>\n",
       "      <td>22212.141104</td>\n",
       "      <td>122931.772167</td>\n",
       "      <td>54730.0</td>\n",
       "    </tr>\n",
       "    <tr>\n",
       "      <th>17131</th>\n",
       "      <td>12742.835159</td>\n",
       "      <td>11946.715328</td>\n",
       "      <td>1997</td>\n",
       "      <td>25084.265178</td>\n",
       "      <td>55518.850516</td>\n",
       "      <td>65.0</td>\n",
       "    </tr>\n",
       "    <tr>\n",
       "      <th>20262</th>\n",
       "      <td>12742.835159</td>\n",
       "      <td>15704.301418</td>\n",
       "      <td>2007</td>\n",
       "      <td>11156.300989</td>\n",
       "      <td>82453.055193</td>\n",
       "      <td>34128.0</td>\n",
       "    </tr>\n",
       "    <tr>\n",
       "      <th>45417</th>\n",
       "      <td>15539.062455</td>\n",
       "      <td>10775.083575</td>\n",
       "      <td>2000</td>\n",
       "      <td>19581.854677</td>\n",
       "      <td>3168.942062</td>\n",
       "      <td>6.0</td>\n",
       "    </tr>\n",
       "    <tr>\n",
       "      <th>156172</th>\n",
       "      <td>10472.419227</td>\n",
       "      <td>7470.209497</td>\n",
       "      <td>2015</td>\n",
       "      <td>48823.850675</td>\n",
       "      <td>8933.676700</td>\n",
       "      <td>65.0</td>\n",
       "    </tr>\n",
       "  </tbody>\n",
       "</table>\n",
       "<p>56995 rows × 6 columns</p>\n",
       "</div>"
      ],
      "text/plain": [
       "          State_Name  District_Name  Crop_Year        Season           Crop  \\\n",
       "60601   29862.393928   52334.278107       2004  22212.141104   12909.658425   \n",
       "79723   18459.854074   26759.421161       2005  11156.300989    2800.784503   \n",
       "149039  10472.419227    4523.310337       1998  13317.681635    8933.676700   \n",
       "147897  10472.419227    7173.128228       1999  22212.141104  122931.772167   \n",
       "156848  10472.419227   17897.005896       2001  22212.141104     613.712458   \n",
       "...              ...            ...        ...           ...            ...   \n",
       "44786   15539.062455   17293.772222       1997  22212.141104  122931.772167   \n",
       "17131   12742.835159   11946.715328       1997  25084.265178   55518.850516   \n",
       "20262   12742.835159   15704.301418       2007  11156.300989   82453.055193   \n",
       "45417   15539.062455   10775.083575       2000  19581.854677    3168.942062   \n",
       "156172  10472.419227    7470.209497       2015  48823.850675    8933.676700   \n",
       "\n",
       "        Area (in Hectares)  \n",
       "60601               3700.0  \n",
       "79723                 63.0  \n",
       "149039                37.0  \n",
       "147897               810.0  \n",
       "156848              2850.0  \n",
       "...                    ...  \n",
       "44786              54730.0  \n",
       "17131                 65.0  \n",
       "20262              34128.0  \n",
       "45417                  6.0  \n",
       "156172                65.0  \n",
       "\n",
       "[56995 rows x 6 columns]"
      ]
     },
     "execution_count": 27,
     "metadata": {},
     "output_type": "execute_result"
    }
   ],
   "source": [
    "xtest"
   ]
  },
  {
   "cell_type": "code",
   "execution_count": 28,
   "metadata": {},
   "outputs": [
    {
     "data": {
      "text/plain": [
       "140073       216.0\n",
       "33782        447.0\n",
       "230427      1886.0\n",
       "129602       700.0\n",
       "117314     10066.0\n",
       "            ...   \n",
       "65906        506.0\n",
       "71576         96.0\n",
       "147758       716.4\n",
       "143009      1030.0\n",
       "178119    396393.0\n",
       "Name: Production (in Tonnes), Length: 170983, dtype: float64"
      ]
     },
     "execution_count": 28,
     "metadata": {},
     "output_type": "execute_result"
    }
   ],
   "source": [
    "ytrain"
   ]
  },
  {
   "cell_type": "code",
   "execution_count": 29,
   "metadata": {},
   "outputs": [
    {
     "data": {
      "text/plain": [
       "60601      3200.0\n",
       "79723       166.0\n",
       "149039       13.0\n",
       "147897      950.0\n",
       "156848      560.0\n",
       "           ...   \n",
       "44786     93671.0\n",
       "17131       325.0\n",
       "20262     97160.0\n",
       "45417         9.0\n",
       "156172      123.5\n",
       "Name: Production (in Tonnes), Length: 56995, dtype: float64"
      ]
     },
     "execution_count": 29,
     "metadata": {},
     "output_type": "execute_result"
    }
   ],
   "source": [
    "ytest"
   ]
  },
  {
   "cell_type": "code",
   "execution_count": 30,
   "metadata": {},
   "outputs": [],
   "source": [
    "from xgboost import XGBRegressor\n",
    "model=XGBRegressor(n_estimators=300,max_depth=10,learning_rate=0.05,gamma=0.5,reg_lambda=0.1).fit(xtrain,ytrain)"
   ]
  },
  {
   "cell_type": "code",
   "execution_count": 31,
   "metadata": {},
   "outputs": [],
   "source": [
    "pred=model.predict(xtest)"
   ]
  },
  {
   "cell_type": "code",
   "execution_count": 32,
   "metadata": {},
   "outputs": [],
   "source": [
    "result=pd.DataFrame()\n",
    "result['Actual']=ytest\n",
    "result['Predicted']=pred"
   ]
  },
  {
   "cell_type": "code",
   "execution_count": 33,
   "metadata": {},
   "outputs": [],
   "source": [
    "result.sort_index(inplace=True)"
   ]
  },
  {
   "cell_type": "code",
   "execution_count": 34,
   "metadata": {},
   "outputs": [
    {
     "data": {
      "text/plain": [
       "<matplotlib.axes._subplots.AxesSubplot at 0x7f920a4a0250>"
      ]
     },
     "execution_count": 34,
     "metadata": {},
     "output_type": "execute_result"
    },
    {
     "data": {
      "image/png": "[encoded data removed]",
      "text/plain": [
       "<Figure size 432x288 with 1 Axes>"
      ]
     },
     "metadata": {},
     "output_type": "display_data"
    }
   ],
   "source": [
    "result.plot()"
   ]
  },
  {
   "cell_type": "code",
   "execution_count": 35,
   "metadata": {},
   "outputs": [
    {
     "data": {
      "text/html": [
       "<div>\n",
       "<style scoped>\n",
       "    .dataframe tbody tr th:only-of-type {\n",
       "        vertical-align: middle;\n",
       "    }\n",
       "\n",
       "    .dataframe tbody tr th {\n",
       "        vertical-align: top;\n",
       "    }\n",
       "\n",
       "    .dataframe thead th {\n",
       "        text-align: right;\n",
       "    }\n",
       "</style>\n",
       "<table border=\"1\" class=\"dataframe\">\n",
       "  <thead>\n",
       "    <tr style=\"text-align: right;\">\n",
       "      <th></th>\n",
       "      <th>Actual</th>\n",
       "      <th>Predicted</th>\n",
       "    </tr>\n",
       "  </thead>\n",
       "  <tbody>\n",
       "    <tr>\n",
       "      <th>Actual</th>\n",
       "      <td>1.00000</td>\n",
       "      <td>0.97276</td>\n",
       "    </tr>\n",
       "    <tr>\n",
       "      <th>Predicted</th>\n",
       "      <td>0.97276</td>\n",
       "      <td>1.00000</td>\n",
       "    </tr>\n",
       "  </tbody>\n",
       "</table>\n",
       "</div>"
      ],
      "text/plain": [
       "            Actual  Predicted\n",
       "Actual     1.00000    0.97276\n",
       "Predicted  0.97276    1.00000"
      ]
     },
     "execution_count": 35,
     "metadata": {},
     "output_type": "execute_result"
    }
   ],
   "source": [
    "result.corr()"
   ]
  },
  {
   "cell_type": "code",
   "execution_count": 36,
   "metadata": {},
   "outputs": [
    {
     "data": {
      "text/plain": [
       "4427.15446917796"
      ]
     },
     "execution_count": 36,
     "metadata": {},
     "output_type": "execute_result"
    }
   ],
   "source": [
    "from sklearn.metrics import mean_absolute_error as mae\n",
    "mae(ytest,pred)"
   ]
  },
  {
   "cell_type": "code",
   "execution_count": 37,
   "metadata": {},
   "outputs": [
    {
     "data": {
      "text/plain": [
       "0.9462547188201629"
      ]
     },
     "execution_count": 37,
     "metadata": {},
     "output_type": "execute_result"
    }
   ],
   "source": [
    "from sklearn.metrics import r2_score\n",
    "r2_score(ytest,pred)"
   ]
  },
  {
   "cell_type": "code",
   "execution_count": 38,
   "metadata": {},
   "outputs": [
    {
     "data": {
      "text/plain": [
       "325.24383544921875"
      ]
     },
     "execution_count": 38,
     "metadata": {},
     "output_type": "execute_result"
    }
   ],
   "source": [
    "from sklearn.metrics import median_absolute_error as mae\n",
    "mae(ytest,pred)"
   ]
  },
  {
   "cell_type": "code",
   "execution_count": 39,
   "metadata": {},
   "outputs": [
    {
     "data": {
      "text/plain": [
       "['yeild_predictor.pkl']"
      ]
     },
     "execution_count": 39,
     "metadata": {},
     "output_type": "execute_result"
    }
   ],
   "source": [
    "joblib.dump(model,'yeild_predictor.pkl')"
   ]
  }
 ],
 "metadata": {
  "kernelspec": {
   "display_name": "Python 3",
   "language": "python",
   "name": "python3"
  },
  "language_info": {
   "codemirror_mode": {
    "name": "ipython",
    "version": 3
   },
   "file_extension": ".py",
   "mimetype": "text/x-python",
   "name": "python",
   "nbconvert_exporter": "python",
   "pygments_lexer": "ipython3",
   "version": "3.7.6"
  }
 },
 "nbformat": 4,
 "nbformat_minor": 4
}
